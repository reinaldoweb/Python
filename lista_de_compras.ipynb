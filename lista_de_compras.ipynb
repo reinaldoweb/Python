{
 "cells": [
  {
   "cell_type": "code",
   "execution_count": 8,
   "metadata": {},
   "outputs": [
    {
     "name": "stdout",
     "output_type": "stream",
     "text": [
      "Eu preciso comparar Uva\n",
      "Eu preciso comparar Maçã\n",
      "Eu preciso comparar Banana\n",
      "Eu preciso comparar Laranja\n"
     ]
    }
   ],
   "source": [
    "#Lista de compras\n",
    "\n",
    "lista = [\"Uva\", \"Maçã\", \"Banana\", \"Laranja\"]\n",
    "\n",
    "for item in lista:\n",
    "    print(\"Eu preciso comprar\", item)"
   ]
  },
  {
   "cell_type": "code",
   "execution_count": 10,
   "metadata": {},
   "outputs": [
    {
     "name": "stdout",
     "output_type": "stream",
     "text": [
      "*****\n",
      "****\n",
      "***\n",
      "**\n",
      "*\n"
     ]
    }
   ],
   "source": [
    "# Estrela descendentes\n",
    "\n",
    "estrelas  = \"*****\"\n",
    "\n",
    "for i in range(5,0, -1):\n",
    "    print('*'* i)\n"
   ]
  },
  {
   "cell_type": "code",
   "execution_count": 17,
   "metadata": {},
   "outputs": [
    {
     "name": "stdout",
     "output_type": "stream",
     "text": [
      "Carro\n"
     ]
    }
   ],
   "source": [
    "# Palavra com mais de 4 letras\n",
    "\n",
    "palavras = [\"Carro\", \"Ovo\", \"Casa\"]\n",
    "\n",
    "\n",
    "for palavra in palavras:\n",
    "    if len(palavra ) > 4:\n",
    "        print(palavra)"
   ]
  },
  {
   "cell_type": "code",
   "execution_count": 20,
   "metadata": {},
   "outputs": [
    {
     "name": "stdout",
     "output_type": "stream",
     "text": [
      "1 * 1 = 1\n",
      "1 * 2 = 2\n",
      "1 * 3 = 3\n",
      "2 * 1 = 2\n",
      "2 * 2 = 4\n",
      "2 * 3 = 6\n",
      "3 * 1 = 3\n",
      "3 * 2 = 6\n",
      "3 * 3 = 9\n"
     ]
    }
   ],
   "source": [
    "# For Nested Loop\n",
    "\n",
    "for i in range(1, 4):\n",
    "    for j in range(1, 4):\n",
    "        print(i,\"*\", j ,\"=\" , i * j)\n"
   ]
  },
  {
   "cell_type": "code",
   "execution_count": 22,
   "metadata": {},
   "outputs": [
    {
     "name": "stdout",
     "output_type": "stream",
     "text": [
      "[1, 9, 25, 49, 81]\n"
     ]
    }
   ],
   "source": [
    "#Quadrados impares\n",
    "\n",
    "quadrados_impares = [x**2 for x in range(10) if x % 2 != 0]\n",
    "print(quadrados_impares)"
   ]
  },
  {
   "cell_type": "code",
   "execution_count": 1,
   "metadata": {},
   "outputs": [
    {
     "name": "stdout",
     "output_type": "stream",
     "text": [
      "['H', 'l', 'l', ' ', 'W', 'r', 'd', '!']\n"
     ]
    }
   ],
   "source": [
    "#Listando consoantes\n",
    "\n",
    "texto = \"Hello Woord!\"\n",
    "\n",
    "consoantes = [char for char in texto if char.lower() not in \"aeiou\"]\n",
    "print(consoantes)"
   ]
  },
  {
   "cell_type": "code",
   "execution_count": 2,
   "metadata": {},
   "outputs": [
    {
     "name": "stdout",
     "output_type": "stream",
     "text": [
      "['H', 'l', 'l', ' ', 'W', 'r', 'd', '!']\n"
     ]
    }
   ],
   "source": [
    "consoantes_exemplo2 = []\n",
    "for char in texto:\n",
    "    if char.lower() not in \"aeiou\":\n",
    "        consoantes_exemplo2.append(char)\n",
    "print(consoantes_exemplo2)"
   ]
  },
  {
   "cell_type": "code",
   "execution_count": 9,
   "metadata": {},
   "outputs": [
    {
     "name": "stdout",
     "output_type": "stream",
     "text": [
      "o fatorial de  5 é: 120\n"
     ]
    }
   ],
   "source": [
    "# Calcular fatoria de numero\n",
    "\n",
    "numero  = input(\"Digite um número inteiro não negativo: \")\n",
    "\n",
    "fatorial = 1\n",
    "for i in range(1, int(numero) + 1):\n",
    "    fatorial = fatorial * i\n",
    "print(\"o fatorial de \", numero, \"é:\", fatorial)"
   ]
  },
  {
   "cell_type": "markdown",
   "metadata": {},
   "source": []
  },
  {
   "cell_type": "code",
   "execution_count": 19,
   "metadata": {},
   "outputs": [
    {
     "name": "stdout",
     "output_type": "stream",
     "text": [
      "1! = 1 = 1\n",
      "2! = 1 * 2 = 2\n",
      "3! = 1 * 2 * 3 = 6\n",
      "4! = 1 * 2 * 3 * 4 = 24\n",
      "5! = 1 * 2 * 3 * 4 * 5 = 120\n",
      "6! = 1 * 2 * 3 * 4 * 5 * 6 = 720\n",
      "7! = 1 * 2 * 3 * 4 * 5 * 6 * 7 = 5040\n",
      "8! = 1 * 2 * 3 * 4 * 5 * 6 * 7 * 8 = 40320\n",
      "9! = 1 * 2 * 3 * 4 * 5 * 6 * 7 * 8 * 9 = 362880\n",
      "10! = 1 * 2 * 3 * 4 * 5 * 6 * 7 * 8 * 9 * 10 = 3628800\n"
     ]
    }
   ],
   "source": [
    "numero  = int(input(\"Digite um número inteiro não negativo: \"))\n",
    "#Loop que percorre todos os numeros inteiros de 1 até o numero indicado pelo usuario\n",
    "\n",
    "fatorial = 1\n",
    "\n",
    "for multiplicador in range(1, numero + 1):\n",
    "\n",
    "#multiplica o valor atual de \"fatorial\", pelo numero atual de (i) na interação\n",
    "\n",
    "    fatorial *= multiplicador\n",
    "\n",
    "    print(f\"{multiplicador}! =\", end=\" \")\n",
    "\n",
    "    for i in range(1, multiplicador + 1):\n",
    "\n",
    "        print(i, end=\" \")\n",
    "\n",
    "        if i != multiplicador:\n",
    "            print('*', end=\" \")\n",
    "    #Imprime o resultado final que é o número informado pelo usuario\n",
    "\n",
    "    print(\"=\", fatorial)"
   ]
  },
  {
   "cell_type": "code",
   "execution_count": 33,
   "metadata": {},
   "outputs": [
    {
     "name": "stdout",
     "output_type": "stream",
     "text": [
      "* * * * * \n",
      "* * * * * \n",
      "* * * * * \n"
     ]
    }
   ],
   "source": [
    "#Criando um retangulo\n",
    "\n",
    "largura = 5\n",
    "altura = 3\n",
    "\n",
    "\n",
    "for i in range(altura):\n",
    "    for j in range(largura):\n",
    "        print(\"*\", end=\" \")\n",
    "    print()\n",
    "\n"
   ]
  },
  {
   "cell_type": "code",
   "execution_count": 56,
   "metadata": {},
   "outputs": [
    {
     "name": "stdout",
     "output_type": "stream",
     "text": [
      "    -\n",
      "   ---\n",
      "  -----\n",
      " -------\n",
      "---------\n"
     ]
    }
   ],
   "source": [
    "#Criando um triangulo usando loop for\n",
    "\n",
    "altura = 5\n",
    "\n",
    "for i in range(altura):\n",
    "\n",
    "     espacos = altura -i - 1\n",
    "\n",
    "     asteriscos = 2 * i + 1\n",
    "\n",
    "     print(\" \" * espacos + \"+\" * asteriscos)\n"
   ]
  }
 ],
 "metadata": {
  "kernelspec": {
   "display_name": "Python 3",
   "language": "python",
   "name": "python3"
  },
  "language_info": {
   "codemirror_mode": {
    "name": "ipython",
    "version": 3
   },
   "file_extension": ".py",
   "mimetype": "text/x-python",
   "name": "python",
   "nbconvert_exporter": "python",
   "pygments_lexer": "ipython3",
   "version": "3.10.12"
  }
 },
 "nbformat": 4,
 "nbformat_minor": 2
}
