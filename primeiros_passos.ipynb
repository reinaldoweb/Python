{
 "cells": [
  {
   "cell_type": "code",
   "execution_count": null,
   "metadata": {},
   "outputs": [],
   "source": [
    "#Este sinal serve para comentar um código para que o usuário saiba o que fez\n",
    "\"\"\"\n",
    "usando três aspas podemos\n",
    "comentar várias linhas\n",
    "assim quando o código for executgado o script pula estas linhas\n",
    "\"\"\"\n",
    "\n",
    "print(\"Hello World!\")"
   ]
  },
  {
   "cell_type": "code",
   "execution_count": 4,
   "metadata": {},
   "outputs": [
    {
     "name": "stdout",
     "output_type": "stream",
     "text": [
      "42\n",
      "3.14\n"
     ]
    }
   ],
   "source": [
    "inteiro = 42\n",
    "print(inteiro)\n",
    "\n",
    "decimal = 3.14\n",
    "print(decimal)"
   ]
  },
  {
   "cell_type": "code",
   "execution_count": 11,
   "metadata": {},
   "outputs": [
    {
     "name": "stdout",
     "output_type": "stream",
     "text": [
      "56\n",
      "Reinaldo de Jesus Santos\n",
      "100.5\n",
      "156.5\n"
     ]
    }
   ],
   "source": [
    "# Exercicio de variáveis em Python\n",
    "\n",
    "#1 Declare uma variavel chamada \"idade\" e atribua o valor 25 a ela.\n",
    "idade = 56\n",
    "print(idade)\n",
    "#2. Declare uma variavel chamada \"nome\" e atribua o valor \"Reinaldo\" a ela.\n",
    "nome = \"Reinaldo de Jesus Santos\"\n",
    "print(nome)\n",
    "#3. Declare uma variavel chamada \"saldo\" e atribua o valor 100.50 a ela.\n",
    "saldo = 100.50\n",
    "print(saldo)\n",
    "#4. Crie uma variavel chamada \"soma\" e atribua a ela a soma das variaves \"idade\" e \"saldo\".\n",
    "soma = idade + saldo\n",
    "#5. Imprima na tela o valor da variavel \"soma\".\n",
    "print(soma)"
   ]
  },
  {
   "cell_type": "code",
   "execution_count": 16,
   "metadata": {},
   "outputs": [
    {
     "name": "stdout",
     "output_type": "stream",
     "text": [
      "A valor da nota media é:  7.57\n"
     ]
    }
   ],
   "source": [
    "#Crei uma variavel chamada \"nota1\" e atribua a ela o valor 7.5.\n",
    "nota1 = 7.5\n",
    "#Crie uma variavel chamada \"nota2\" e atribua o valor 8.3 a ela.\n",
    "nota2 = 8.3\n",
    "#crie uma variavel chamada \"nota3\" e atibua o valor 6.9 a ela.\n",
    "nota3 = 6.9\n",
    "#Calcule a media das três notas e atribua o resultado a uma variavel chamada \"media\"\n",
    "media = (nota1 + nota2 + nota3)  / 3\n",
    "#Imprima na tela o valor da variavel \"media\" formatado com duas casas decimais.\n",
    "\n",
    "print(\"A valor da nota media é: \", format(media, \".2f\"))"
   ]
  },
  {
   "cell_type": "code",
   "execution_count": 18,
   "metadata": {},
   "outputs": [
    {
     "name": "stdout",
     "output_type": "stream",
     "text": [
      "O seu nome é Reinaldo\n"
     ]
    }
   ],
   "source": [
    "nome = input(\"Qual seu nome? \")\n",
    "print(\"O seu nome é\", nome)"
   ]
  },
  {
   "cell_type": "code",
   "execution_count": 21,
   "metadata": {},
   "outputs": [
    {
     "name": "stdout",
     "output_type": "stream",
     "text": [
      "8 * 1 = 8\n",
      "8 * 2 = 16\n",
      "8  * 3 = 32\n",
      "8  * 4 = 32\n",
      "8  * 5 = 40\n",
      "8  * 6 = 48\n",
      "8  * 7 = 56\n",
      "8  * 8 = 64\n",
      "8  * 9 = 72\n",
      "8  * 10 = 80\n"
     ]
    }
   ],
   "source": [
    "#Tabuada personalizada\n",
    "\n",
    "\n",
    "n = int(input(\"A tabuada de qual numero você deseja ver?: \"))\n",
    "\n",
    "print( n, \"* 1 =\", n * 1)\n",
    "print(n, \"* 2 =\", n * 2)\n",
    "print(n, \" * 3 =\", n * 4)\n",
    "print(n, \" * 4 =\", n * 4)\n",
    "print(n, \" * 5 =\", n * 5)\n",
    "print(n, \" * 6 =\", n * 6)\n",
    "print(n, \" * 7 =\", n * 7)\n",
    "print(n, \" * 8 =\", n * 8)\n",
    "print(n, \" * 9 =\", n * 9)\n",
    "print(n, \" * 10 =\", n * 10)"
   ]
  },
  {
   "cell_type": "code",
   "execution_count": 9,
   "metadata": {},
   "outputs": [
    {
     "name": "stdout",
     "output_type": "stream",
     "text": [
      "95\n"
     ]
    }
   ],
   "source": [
    "# Gera numeros aleatorios - randomicos\n",
    "import random\n",
    "\n",
    "print(random.randrange(1, 100))"
   ]
  },
  {
   "cell_type": "code",
   "execution_count": 3,
   "metadata": {},
   "outputs": [
    {
     "name": "stdout",
     "output_type": "stream",
     "text": [
      "P\n",
      "y\n",
      "t\n",
      "h\n",
      "o\n",
      "n\n"
     ]
    }
   ],
   "source": [
    "posicaoLetra = \"Python\"\n",
    "print(posicaoLetra[0])\n",
    "print(posicaoLetra[1])\n",
    "print(posicaoLetra[2])\n",
    "print(posicaoLetra[3])\n",
    "print(posicaoLetra[4])\n",
    "print(posicaoLetra[5])"
   ]
  },
  {
   "cell_type": "code",
   "execution_count": 7,
   "metadata": {},
   "outputs": [
    {
     "name": "stdout",
     "output_type": "stream",
     "text": [
      " mun\n",
      "Olá, \n",
      "mundo!\n"
     ]
    }
   ],
   "source": [
    "frase = \"Olá, mundo!\"\n",
    "parte = frase[4:8]\n",
    "print(parte)\n",
    "\n",
    "primeiros = frase[:5]\n",
    "print(primeiros)\n",
    "\n",
    "ultimos = frase[-6:]\n",
    "print(ultimos)"
   ]
  },
  {
   "cell_type": "code",
   "execution_count": 18,
   "metadata": {},
   "outputs": [
    {
     "name": "stdout",
     "output_type": "stream",
     "text": [
      "Sim, a palavra python está presente na frase\n"
     ]
    }
   ],
   "source": [
    "#Verifica se a palavra Python aparece na frase\n",
    "\n",
    "frase = \"O módulo de python é muito legal\"\n",
    "if \"python\" in frase:\n",
    "    print(\"Sim, a palavra python está presente na frase\")\n",
    "else:\n",
    "    print(\"A palavra python não está presente na frase\")"
   ]
  },
  {
   "cell_type": "code",
   "execution_count": 20,
   "metadata": {},
   "outputs": [
    {
     "name": "stdout",
     "output_type": "stream",
     "text": [
      "O módulo de python é muito legal\n"
     ]
    }
   ],
   "source": [
    "frase = \"O módulo de python é muito legal\"\n",
    "print(frase.strip()) # Serve para remover os espacos"
   ]
  },
  {
   "cell_type": "code",
   "execution_count": 21,
   "metadata": {},
   "outputs": [
    {
     "name": "stdout",
     "output_type": "stream",
     "text": [
      "['Olá', 'como', 'vai', 'você?']\n"
     ]
    }
   ],
   "source": [
    "# Divididee a frase em varias parte\n",
    "\n",
    "frase = \"Olá como vai você?\"\n",
    "palavras = frase.split()\n",
    "print(palavras)"
   ]
  },
  {
   "cell_type": "code",
   "execution_count": 23,
   "metadata": {},
   "outputs": [
    {
     "name": "stdout",
     "output_type": "stream",
     "text": [
      "Olá como vai você\n"
     ]
    }
   ],
   "source": [
    "# join junta as partes de uma lista em uma unica string\n",
    "\n",
    "palavras = [\"Olá\", \"como\", \"vai\", \"você\"]\n",
    "frase = \" \".join(palavras)\n",
    "print(frase)"
   ]
  },
  {
   "cell_type": "code",
   "execution_count": 25,
   "metadata": {},
   "outputs": [
    {
     "name": "stdout",
     "output_type": "stream",
     "text": [
      "Olá!\n",
      "Olá!\n"
     ]
    }
   ],
   "source": [
    "# Remove espacos em branco e caracteres\n",
    "\n",
    "texto = \"    Olá!   \"\n",
    "texto_strip = texto.strip()\n",
    "print(texto_strip)\n",
    "\n",
    "texto = \"******Olá!****\"\n",
    "texto_strip = texto.strip('*')\n",
    "print(texto_strip)"
   ]
  },
  {
   "cell_type": "code",
   "execution_count": 27,
   "metadata": {},
   "outputs": [
    {
     "name": "stdout",
     "output_type": "stream",
     "text": [
      "Olá, meu nome é Reinaldo, tenho 56 anos e 1.83 de altura\n"
     ]
    }
   ],
   "source": [
    "# Utilizando format string\n",
    "nome = \"Reinaldo\"\n",
    "idade = 56\n",
    "altura = 1.83\n",
    "\n",
    "# Criando mesangem formatada usando f-string\n",
    "mensagem = f\"Olá, meu nome é {nome}, tenho {idade} anos e {altura:.2f} de altura\"\n",
    "print(mensagem)\n"
   ]
  },
  {
   "cell_type": "code",
   "execution_count": 33,
   "metadata": {},
   "outputs": [
    {
     "name": "stdout",
     "output_type": "stream",
     "text": [
      "OLÁ MUNDO!\n",
      "olá mundo de novo!\n",
      "2\n",
      "Como vai mundo!\n"
     ]
    }
   ],
   "source": [
    "# Converte texto para muiuscula\n",
    "texto = \"Olá mundo!\"\n",
    "\n",
    "print(texto.upper())\n",
    "\n",
    "texto2 = \"OLÁ MUNDO DE NOVO!\"\n",
    "print(texto2.lower())\n",
    "\n",
    "texto3 = \"Contador de ocorrencia!\"\n",
    "print (texto3.count(\"c\"))\n",
    "\n",
    "texto_substituido = texto.replace(\"Olá\", \"Como vai\")\n",
    "print(texto_substituido)"
   ]
  },
  {
   "cell_type": "code",
   "execution_count": 40,
   "metadata": {},
   "outputs": [
    {
     "name": "stdout",
     "output_type": "stream",
     "text": [
      "Maria Silva\n",
      "Olá meu nome é Maria Silva, eu tenho 30 anos.\n"
     ]
    }
   ],
   "source": [
    "#Exercicios\n",
    "# 1. Crie uma variavel chamada \"nome\" e atribua a ela o valor \"Maria\"\n",
    "\n",
    "nome = \"Maria\"\n",
    "\n",
    "# 2. Crie uma variavel chamada \"sobrenome\" e atribua a ela o valor \"Silva\"\n",
    "sobrenome = \"Silva\"\n",
    "\n",
    "# 3. Crie uma variavel chamada \"idade\" e atribua a ela o valor \"30\"\n",
    "\n",
    "idade = 30\n",
    "\n",
    "# 4. Concatene as variaveis \"nome\" e \"sobrenome\" em uma nova variavel chamdada \"nome_completo\"\n",
    "\n",
    "nome_completo = nome + \" \" + sobrenome\n",
    "\n",
    "# 5. Imprima na tela o valor da variavel nome_completo\n",
    "\n",
    "print(nome_completo)\n",
    "\n",
    "# 6. Crie uma variavel chamda \"mensagem\" que utilize a funcao format para criar uma frase personalizada com as variaveis\n",
    "# \"nome_completo\" e \"idade\"\n",
    "\n",
    "menasgem = f\"Olá meu nome é {nome_completo}, eu tenho {idade} anos.\"\n",
    "\n",
    "# 7. Imprima na tela o valor da mensagem\n",
    "\n",
    "print(menasgem)\n"
   ]
  },
  {
   "cell_type": "code",
   "execution_count": 44,
   "metadata": {},
   "outputs": [
    {
     "name": "stdout",
     "output_type": "stream",
     "text": [
      "58\n",
      "Python\n",
      "PYTHON É UMA LINGUAGEM DE PROGRAMAÇÃO PODEROSA E VERSATIL.\n",
      "Python é uma linguagem de programação incrivel e versatil.\n"
     ]
    }
   ],
   "source": [
    "# Exercicio de manipulação de strings\n",
    "\n",
    "# 1. Crie uma variavel chamada \"frase\" e atribua a ela a seguinte frase: \"Python é uma linguagem de programação poderosa e versatil.\"\n",
    "\n",
    "frase = \"Python é uma linguagem de programação poderosa e versatil.\"\n",
    "\n",
    "# 2. Imprima na tela o tamanho da frase, ou seja, a quantidade de caracteres presentes nela.\n",
    "\n",
    "tamanho_frase = len(frase)\n",
    "print(tamanho_frase)\n",
    "\n",
    "# 3. Crie uma variavel chamada \"palavra\" e atribua a ela a primeira palavara da frase\"\n",
    "palavra = frase.split()[0]\n",
    "print(palavra)\n",
    "\n",
    "# 4. Converta a variavel \"frase\" para letras maiusculas e atribua o resultado a uma nova variavel chamada \"frase_maiuscula.\"\n",
    "\n",
    "frase_maiuscula = frase.upper()\n",
    "print(frase_maiuscula)\n",
    "\n",
    "# 5. Substitua a palavra\"poderosa\" por \"incrivel\" na variavel \"frase\" e atribua o resultado a uma nova variavel chamada \"frase_substituida\".\n",
    "\n",
    "frase_substituida = frase.replace(\"poderosa\", \"incrivel\")\n",
    "print (frase_substituida)\n",
    "\n"
   ]
  }
 ],
 "metadata": {
  "kernelspec": {
   "display_name": "Python 3",
   "language": "python",
   "name": "python3"
  },
  "language_info": {
   "codemirror_mode": {
    "name": "ipython",
    "version": 3
   },
   "file_extension": ".py",
   "mimetype": "text/x-python",
   "name": "python",
   "nbconvert_exporter": "python",
   "pygments_lexer": "ipython3",
   "version": "3.10.12"
  }
 },
 "nbformat": 4,
 "nbformat_minor": 2
}
