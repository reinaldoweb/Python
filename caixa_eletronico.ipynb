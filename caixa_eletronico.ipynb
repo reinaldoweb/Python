{
 "cells": [
  {
   "cell_type": "code",
   "execution_count": 1,
   "metadata": {},
   "outputs": [
    {
     "name": "stdout",
     "output_type": "stream",
     "text": [
      "Seu Saldo atual é de R$ 1000.00\n",
      "Caixa Eletronico  \n",
      " 1 - Verificar Saldo \n",
      " 2 - Desposistar dinheiro \n",
      " 3 - Sacar Dinheiro \n",
      " 4 - Sair\n",
      "Seu Saldo atual é de R$ 1000.00\n",
      "Caixa Eletronico  \n",
      " 1 - Verificar Saldo \n",
      " 2 - Desposistar dinheiro \n",
      " 3 - Sacar Dinheiro \n",
      " 4 - Sair\n"
     ]
    },
    {
     "ename": "ValueError",
     "evalue": "could not convert string to float: ''",
     "output_type": "error",
     "traceback": [
      "\u001b[0;31m---------------------------------------------------------------------------\u001b[0m",
      "\u001b[0;31mValueError\u001b[0m                                Traceback (most recent call last)",
      "Cell \u001b[0;32mIn[1], line 19\u001b[0m\n\u001b[1;32m     15\u001b[0m     \u001b[38;5;28mprint\u001b[39m(\u001b[38;5;124mf\u001b[39m\u001b[38;5;124m\"\u001b[39m\u001b[38;5;124mSeu Saldo atual é de R$ \u001b[39m\u001b[38;5;132;01m{\u001b[39;00msaldoAtual\u001b[38;5;132;01m:\u001b[39;00m\u001b[38;5;124m.2f\u001b[39m\u001b[38;5;132;01m}\u001b[39;00m\u001b[38;5;124m\"\u001b[39m)\n\u001b[1;32m     18\u001b[0m \u001b[38;5;28;01melif\u001b[39;00m opcao \u001b[38;5;241m==\u001b[39m\u001b[38;5;124m'\u001b[39m\u001b[38;5;124m2\u001b[39m\u001b[38;5;124m'\u001b[39m:\n\u001b[0;32m---> 19\u001b[0m     deposito \u001b[38;5;241m=\u001b[39m \u001b[38;5;28;43mfloat\u001b[39;49m\u001b[43m(\u001b[49m\u001b[38;5;28;43minput\u001b[39;49m\u001b[43m(\u001b[49m\u001b[38;5;124;43m\"\u001b[39;49m\u001b[38;5;124;43mQuanto deseja depositar? \u001b[39;49m\u001b[38;5;124;43m\"\u001b[39;49m\u001b[43m)\u001b[49m\u001b[43m)\u001b[49m\n\u001b[1;32m     20\u001b[0m     \u001b[38;5;28;01mif\u001b[39;00m deposito \u001b[38;5;241m>\u001b[39m \u001b[38;5;241m0\u001b[39m :\n\u001b[1;32m     21\u001b[0m         saldoAtual \u001b[38;5;241m=\u001b[39m saldoAtual \u001b[38;5;241m+\u001b[39m deposito\n",
      "\u001b[0;31mValueError\u001b[0m: could not convert string to float: ''"
     ]
    }
   ],
   "source": [
    "#Sistema de Caixa eletrônico\n",
    "\n",
    "#Entrada de dados\n",
    "\n",
    "saldoAtual = 1000.00\n",
    "\n",
    "while True:\n",
    "\n",
    "    print(\"Caixa Eletronico\", \" \\n 1 - Verificar Saldo \\n 2 - Desposistar dinheiro \\n 3 - Sacar Dinheiro \\n 4 - Sair\")\n",
    "\n",
    "\n",
    "    opcao = input(\"Selecione uma opção (1-4): \")\n",
    "\n",
    "    if opcao == '1':\n",
    "        print(f\"Seu Saldo atual é de R$ {saldoAtual:.2f}\")\n",
    "\n",
    "\n",
    "    elif opcao =='2':\n",
    "        deposito = float(input(\"Quanto deseja depositar? \"))\n",
    "        if deposito > 0 :\n",
    "            saldoAtual = saldoAtual + deposito\n",
    "            print(f\"Deposito de R${deposito:.2f} realizado com sucesso!\")\n",
    "        else:\n",
    "            print(\"Deposito invalido!\")\n",
    "\n",
    "\n",
    "    elif opcao == '3':\n",
    "        saque = float(input(\"Quanto deseja sacar? \"))\n",
    "        if saque > 0 and saque <= saldoAtual:\n",
    "            saldoAtual = saldoAtual - saque\n",
    "            print(f\"Saque de R${saque:.2f} realizado com sucesso!\")\n",
    "        else:\n",
    "            print(\"Saque inválido ou saldo insuficiente!\")\n",
    "\n",
    "\n",
    "    elif opcao == '4':\n",
    "        print(\"Sistema encerrado\")\n",
    "\n",
    "        break\n",
    "    else:\n",
    "        print(\"Opção inválida!\")\n",
    "\n"
   ]
  },
  {
   "cell_type": "markdown",
   "metadata": {},
   "source": []
  }
 ],
 "metadata": {
  "kernelspec": {
   "display_name": "Python 3",
   "language": "python",
   "name": "python3"
  },
  "language_info": {
   "codemirror_mode": {
    "name": "ipython",
    "version": 3
   },
   "file_extension": ".py",
   "mimetype": "text/x-python",
   "name": "python",
   "nbconvert_exporter": "python",
   "pygments_lexer": "ipython3",
   "version": "3.10.12"
  }
 },
 "nbformat": 4,
 "nbformat_minor": 2
}
