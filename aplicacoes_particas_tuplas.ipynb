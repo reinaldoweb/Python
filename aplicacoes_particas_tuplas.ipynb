{
 "cells": [
  {
   "cell_type": "code",
   "execution_count": null,
   "metadata": {},
   "outputs": [],
   "source": []
  },
  {
   "cell_type": "markdown",
   "metadata": {},
   "source": [
    "##Aplicações Práticas usando tuplas"
   ]
  },
  {
   "cell_type": "code",
   "execution_count": 1,
   "metadata": {},
   "outputs": [
    {
     "name": "stdout",
     "output_type": "stream",
     "text": [
      "Total vendido: 185\n",
      "Produto mais vendido: A\n"
     ]
    }
   ],
   "source": [
    "##Analisando vendas\n",
    "\n",
    "# 1. Retornando múltiplos valores de uma função usando tuplas\n",
    "\n",
    "def analisar_vendas(venda_A, venda_B):\n",
    "\n",
    "    total_vendido = venda_A + venda_B\n",
    "    mais_vendido = \"A\" if venda_A > venda_B else \"B\"\n",
    "    return total_vendido, mais_vendido\n",
    "total, top_produto = analisar_vendas(100,85)\n",
    "print(f\"Total vendido: {total}\")\n",
    "print(f\"Produto mais vendido: {top_produto}\")"
   ]
  },
  {
   "cell_type": "markdown",
   "metadata": {},
   "source": [
    "###2.Uso de tuplas em loop for\n"
   ]
  },
  {
   "cell_type": "code",
   "execution_count": 2,
   "metadata": {},
   "outputs": [
    {
     "name": "stdout",
     "output_type": "stream",
     "text": [
      "Vendas de A: 100,vendas de B: 90\n",
      "Vendas de A: 110,vendas de B: 115\n",
      "Vendas de A: 200,vendas de B: 350\n",
      "\n"
     ]
    }
   ],
   "source": [
    "vendas = [(100,90),(110,115), (200,350)]\n",
    "\n",
    "for vendas_a, vendas_b in vendas:\n",
    "    print(f\"Vendas de A: {vendas_a},vendas de B: {vendas_b}\")\n",
    "print()"
   ]
  },
  {
   "cell_type": "markdown",
   "metadata": {},
   "source": [
    "###3.Trocando valores entre duas tuplas"
   ]
  },
  {
   "cell_type": "code",
   "execution_count": 4,
   "metadata": {},
   "outputs": [
    {
     "name": "stdout",
     "output_type": "stream",
     "text": [
      "Vendas corrigidas A: 85, B: 100\n"
     ]
    }
   ],
   "source": [
    "#No final do dia, você percebeu que confundio as vendas dos produtos A e B e precisa trocas os valores para corrigir.\n",
    "\n",
    "\n",
    "vendas_A = 100\n",
    "vendas_B = 85\n",
    "\n",
    "vendas_A, vendas_B = vendas_B, vendas_A\n",
    "\n",
    "print(f\"Vendas corrigidas A: {vendas_A}, B: {vendas_B}\")"
   ]
  },
  {
   "cell_type": "markdown",
   "metadata": {},
   "source": [
    "###Exercíco: Gerenciamento de Estoque"
   ]
  },
  {
   "cell_type": "code",
   "execution_count": 16,
   "metadata": {},
   "outputs": [
    {
     "name": "stdout",
     "output_type": "stream",
     "text": [
      "Total de vendas 1150\n",
      "Produto mais vendido Smartphone\n"
     ]
    }
   ],
   "source": [
    "#Instruções:\n",
    "#1. Retornar multiplos valores de uma função usando tuplas.\n",
    "#Crie uma função chamada resumo_venda que aceite dois argumentos: vendas_smartphones e vendas_smartsatches.\n",
    "#A função deve retornar o total de vendas e o nome do produto mais vendido.\n",
    "#venda_produtos = (80, \"smartphones\", 70, \"smartwatch\")\n",
    "\n",
    "def resumo_vendas(vendas_smartphone, vendas_smartwatch):\n",
    "    total_vendido = vendas_smartphone + vendas_smartwatch\n",
    "    mais_vendido = \"Smartphone\" if vendas_smartphone > vendas_smartwatch else \"SmartWatch\"\n",
    "    return total_vendido, mais_vendido\n",
    "total, produto_total = resumo_vendas(1000, 150)\n",
    "print(f\"Total de vendas {total}\")\n",
    "print(f\"Produto mais vendido {produto_total}\")\n"
   ]
  },
  {
   "cell_type": "code",
   "execution_count": 9,
   "metadata": {},
   "outputs": [
    {
     "name": "stdout",
     "output_type": "stream",
     "text": [
      "As venda de Smartphones foram 70 e Smartwastch 65\n",
      "As venda de Smartphones foram 80 e Smartwastch 82\n",
      "As venda de Smartphones foram 90 e Smartwastch 88\n"
     ]
    }
   ],
   "source": [
    "#2.Uso de tuplas em loops for\n",
    "#Dada a lisita vendas_semana = [(70,65),(80,82), (90,88)]\n",
    "#Cada tupla representa as vendas de smarphones e smartwatches para cada dia.\n",
    "\n",
    "#Use o loop for para imprimir as vendas de smarphones e smartwatches para cada dia.\n",
    "#-Pergunta: Quais foram as vendas de smarphones e smartwatches para cada dia?\n",
    "\n",
    "vendas_semana = [(70,65),(80,82), (90,88)]\n",
    "\n",
    "for vendas_A, vendas_B in vendas_semana:\n",
    "    print(f\"As venda de Smartphones foram {vendas_A} e Smartwastch {vendas_B}\")"
   ]
  },
  {
   "cell_type": "markdown",
   "metadata": {},
   "source": [
    "###Trocando valores entre duas variaveis"
   ]
  },
  {
   "cell_type": "code",
   "execution_count": 13,
   "metadata": {},
   "outputs": [
    {
     "name": "stdout",
     "output_type": "stream",
     "text": [
      "As vendas corrigida de segunda: (70, 65)\n"
     ]
    }
   ],
   "source": [
    "\n",
    "vendas_segunda_A= (65)\n",
    "vendas_segunda_B= (70)\n",
    "\n",
    "vendas_segunda_invertida = vendas_segunda_B, vendas_segunda_A\n",
    "print(f\"As vendas corrigida de segunda: {vendas_segunda_invertida}\")"
   ]
  },
  {
   "cell_type": "markdown",
   "metadata": {},
   "source": [
    "###Comparação de tuplas"
   ]
  },
  {
   "cell_type": "code",
   "execution_count": 19,
   "metadata": {},
   "outputs": [
    {
     "name": "stdout",
     "output_type": "stream",
     "text": [
      "True\n",
      "True\n",
      "True\n"
     ]
    }
   ],
   "source": [
    "#Dadas as seguintes tuplas\n",
    "t1 = (3,5)\n",
    "t2 = (3,4,10)\n",
    "t3 = (3,6)\n",
    "t4 = (2,100)\n",
    "t5 = (3,5)\n",
    "\n",
    "#Responda\n",
    "\n",
    "# 1 - Qual é a maior: t1 ou t2?\n",
    "print(t1 > t2)\n",
    "\n",
    "# 2 - t3 é maior que t1?\n",
    "print(t3 > t1)\n",
    "\n",
    "# 3 - t1 e t5 são iguais?\n",
    "print(t1 == t5)\n"
   ]
  }
 ],
 "metadata": {
  "kernelspec": {
   "display_name": "Python 3",
   "language": "python",
   "name": "python3"
  },
  "language_info": {
   "codemirror_mode": {
    "name": "ipython",
    "version": 3
   },
   "file_extension": ".py",
   "mimetype": "text/x-python",
   "name": "python",
   "nbconvert_exporter": "python",
   "pygments_lexer": "ipython3",
   "version": "3.10.12"
  }
 },
 "nbformat": 4,
 "nbformat_minor": 2
}
