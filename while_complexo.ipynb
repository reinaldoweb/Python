{
 "cells": [
  {
   "cell_type": "code",
   "execution_count": 3,
   "metadata": {},
   "outputs": [
    {
     "name": "stdout",
     "output_type": "stream",
     "text": [
      " x = 5 e y = 15 \n",
      " x = 6 e y = 14 \n",
      " x = 7 e y = 13 \n",
      " x = 8 e y = 12 \n",
      " x = 9 e y = 11 \n",
      "Loop finalizando...\n",
      " Valores finais - x:10 e y:10\n"
     ]
    }
   ],
   "source": [
    "#While usando uma condição complexa\n",
    "\n",
    "#Inicializando as variaveis\n",
    "\n",
    "x, y = 5, 15\n",
    "\n",
    "#laço while\n",
    "while x < 10 and y > 10:\n",
    "\n",
    "    print(f\" x = {x} e y = {y} \") #imprime os valores de x e y (valores de x, y)\n",
    "    x = x + 1\n",
    "    y = y - 1\n",
    "\n",
    "print(\"Loop finalizando...\")\n",
    "print(f\" Valores finais - x:{x} e y:{y}\") #imprime os valores finais de x e y =\n"
   ]
  },
  {
   "cell_type": "code",
   "execution_count": 6,
   "metadata": {},
   "outputs": [
    {
     "name": "stdout",
     "output_type": "stream",
     "text": [
      "Tentivas restantes: 5\n",
      "Tente novamente.\n",
      "Tentivas restantes: 4\n"
     ]
    }
   ],
   "source": [
    "#While usando uma condição complexa\n",
    "\n",
    "numero_secreto1 = 7\n",
    "\n",
    "numero_secreto2 = 3\n",
    "\n",
    "tentativas = 5\n",
    "\n",
    "adivinhou1 = False\n",
    "\n",
    "adivinhou2 = False\n",
    "\n",
    "while tentativas > 0 and (not adivinhou1 == True or not adivinhou2 == True):\n",
    "\n",
    "    print(f\"Tentivas restantes: {tentativas}\")\n",
    "\n",
    "    palpite1 = int(input(\"Adivinhe o primeiro número secreto (1-10): \"))\n",
    "    palpite2 = int(input(\"Adivinhe o segundo número secreto (1-10): \"))\n",
    "\n",
    "    if palpite1 == numero_secreto1 :\n",
    "        print(\"Você adivinhou o primeiro número secreto!\")\n",
    "\n",
    "        adivinhou1 = True\n",
    "\n",
    "    if palpite2 == numero_secreto2:\n",
    "\n",
    "        print(\"Você adivinhou o segundo número secreto!\")\n",
    "\n",
    "        adivinhou2= True\n",
    "\n",
    "    # SE não adivinhou exibe tente de novo\n",
    "    if not adivinhou1 == True and not adivinhou2 == True:\n",
    "\n",
    "        print(\"Tente novamente.\")\n",
    "\n",
    "        tentativas -= 1\n",
    "\n",
    "if adivinhou1 == True and adivinhou2 == True:\n",
    "        print(\"Parabéns, você venceu adinvinhou todos os numeros!\")\n",
    "else:\n",
    "        print(f\"Você não conseguiu adivinhar os números secretos. {numero_secreto1} e {numero_secreto2}\")\n",
    "\n",
    "\n",
    "\n"
   ]
  },
  {
   "cell_type": "code",
   "execution_count": null,
   "metadata": {},
   "outputs": [],
   "source": []
  }
 ],
 "metadata": {
  "kernelspec": {
   "display_name": "Python 3",
   "language": "python",
   "name": "python3"
  },
  "language_info": {
   "codemirror_mode": {
    "name": "ipython",
    "version": 3
   },
   "file_extension": ".py",
   "mimetype": "text/x-python",
   "name": "python",
   "nbconvert_exporter": "python",
   "pygments_lexer": "ipython3",
   "version": "3.10.12"
  }
 },
 "nbformat": 4,
 "nbformat_minor": 2
}
