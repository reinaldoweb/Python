{
 "cells": [
  {
   "cell_type": "code",
   "execution_count": null,
   "metadata": {},
   "outputs": [],
   "source": [
    "# For laço de repetição\n",
    "\n",
    "for i in range(1, 11):\n",
    "    print(i)"
   ]
  },
  {
   "cell_type": "code",
   "execution_count": 2,
   "metadata": {},
   "outputs": [
    {
     "name": "stdout",
     "output_type": "stream",
     "text": [
      "Número impara atual: 1\n",
      "Número impara atual: 3\n",
      "Número impara atual: 5\n",
      "Número impara atual: 7\n",
      "Número impara atual: 9\n",
      "\n",
      " A soma dos números impares de 1 a 10 é: 25\n"
     ]
    }
   ],
   "source": [
    "soma = 0\n",
    "\n",
    "for i in range(1, 11, 2):\n",
    "    print(f\"Número impara atual: {i}\")\n",
    "\n",
    "    soma += i\n",
    "\n",
    "print(f\"\\n A soma dos números impares de 1 a 10 é: {soma}\")"
   ]
  },
  {
   "cell_type": "code",
   "execution_count": 8,
   "metadata": {},
   "outputs": [
    {
     "name": "stdout",
     "output_type": "stream",
     "text": [
      "Multiplicando por 1, o resultado parcial é 1\n"
     ]
    }
   ],
   "source": [
    "\n",
    "resultado = 1\n",
    "\n",
    "for numero in range(1,6):\n",
    "\n",
    "    resultado *= numero\n",
    "\n",
    "    print(f\"Multiplicando por {numero}, o resultado parcial é {resultado}\")\n"
   ]
  },
  {
   "cell_type": "code",
   "execution_count": 5,
   "metadata": {},
   "outputs": [
    {
     "name": "stdout",
     "output_type": "stream",
     "text": [
      "A soma dos númros para de 1 a 10 é: 2 + 0 = 2\n",
      "A soma dos númros para de 1 a 10 é: 4 + 2 = 6\n",
      "A soma dos númros para de 1 a 10 é: 6 + 6 = 12\n",
      "A soma dos númros pares de 1 até 6 é 12\n"
     ]
    }
   ],
   "source": [
    "# Soma de números pares\n",
    "\n",
    "\n",
    "numero = int(input(\"Digite um numero inteiro positivo: \"))\n",
    "\n",
    "soma_pares = 0\n",
    "for i in range(1, numero + 1):\n",
    "\n",
    "    if i % 2 == 0:\n",
    "      print(f\"A soma dos númros para de 1 a 10 é: {i} + {soma_pares} = {i+soma_pares}\")\n",
    "\n",
    "      soma_pares += i\n",
    "print(f\"A soma dos númros pares de 1 até {numero} é {soma_pares}\")\n"
   ]
  },
  {
   "cell_type": "code",
   "execution_count": 12,
   "metadata": {},
   "outputs": [
    {
     "name": "stdout",
     "output_type": "stream",
     "text": [
      " 7 x 1 = 7\n",
      " 7 x 2 = 14\n",
      " 7 x 3 = 21\n",
      " 7 x 4 = 28\n",
      " 7 x 5 = 35\n",
      " 7 x 6 = 42\n",
      " 7 x 7 = 49\n",
      " 7 x 8 = 56\n",
      " 7 x 9 = 63\n",
      " 7 x 10 = 70\n",
      "Fim da tabela de multiplicação.\n"
     ]
    }
   ],
   "source": [
    "numero = int(input(\"Digite um número inteiro positivo para exibir a sua tabela de multiplicação: \"))\n",
    "\n",
    "for i in range(1, 11):\n",
    "\n",
    "    resultado  = numero * i\n",
    "\n",
    "    print(f\" {numero} x {i} = {resultado}\")\n",
    "\n",
    "print(\"Fim da tabela de multiplicação.\")"
   ]
  },
  {
   "cell_type": "code",
   "execution_count": 17,
   "metadata": {},
   "outputs": [
    {
     "name": "stdout",
     "output_type": "stream",
     "text": [
      "O quadrado de 1: 1\n",
      "O quadrado de 2: 4\n",
      "O quadrado de 3: 9\n",
      "O quadrado de 4: 16\n",
      "O quadrado de 5: 25\n",
      "A soma dos quadrados de 1 até 5 é 55\n"
     ]
    }
   ],
   "source": [
    "#Somas dos Quadrados\n",
    "\n",
    "n = int(input(\"Digite um número inteiro positivo: \"))\n",
    "\n",
    "soma_quadrados = 0\n",
    "\n",
    "for i in range(1, n + 1):\n",
    "\n",
    "    quadrado = i**2\n",
    "\n",
    "    print(f\"O quadrado de {i}: {quadrado}\")\n",
    "\n",
    "    soma_quadrados += quadrado\n",
    "print(f\"A soma dos quadrados de 1 até {n} é {soma_quadrados}\")"
   ]
  },
  {
   "cell_type": "code",
   "execution_count": null,
   "metadata": {},
   "outputs": [],
   "source": []
  }
 ],
 "metadata": {
  "kernelspec": {
   "display_name": "Python 3",
   "language": "python",
   "name": "python3"
  },
  "language_info": {
   "codemirror_mode": {
    "name": "ipython",
    "version": 3
   },
   "file_extension": ".py",
   "mimetype": "text/x-python",
   "name": "python",
   "nbconvert_exporter": "python",
   "pygments_lexer": "ipython3",
   "version": "3.10.12"
  }
 },
 "nbformat": 4,
 "nbformat_minor": 2
}
