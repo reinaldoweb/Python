{
 "cells": [
  {
   "cell_type": "code",
   "execution_count": 18,
   "metadata": {},
   "outputs": [
    {
     "name": "stdout",
     "output_type": "stream",
     "text": [
      "gato\n",
      "Carlos\n",
      "{'Titulo': 'A arte da Guerra', 'Autor': 'Sun Tzu', 'publicado': -500}\n",
      "Universidade Federal\n",
      "Salvador\n"
     ]
    }
   ],
   "source": [
    "#1. Exercicio de dicionario\n",
    "\n",
    "animal = {\n",
    "    \"tipo\":\"gato\",\n",
    "    \"cor\":\"Branco\",\n",
    "    \"idade\": 3\n",
    "}\n",
    "\n",
    "print(animal.get(\"tipo\"))\n",
    "\n",
    "#2.Dicionario vazio\n",
    "\n",
    "estudante = {}\n",
    "estudante[\"nome\"] = \"Carlos\"\n",
    "estudante[\"curso\"] = \"Matematica\"\n",
    "estudante[\"semestre\"] = 2\n",
    "print(estudante[\"nome\"])\n",
    "\n",
    "#3.Dicionario com multiplos itens\n",
    "\n",
    "livro = {\n",
    "    \"Titulo\": \"A arte da Guerra\",\n",
    "    \"Autor\":\"Sun Tzu\",\n",
    "    \"publicado\": -500\n",
    "}\n",
    "\n",
    "print(livro)\n",
    "\n",
    "#4.Dicionarios aninhados\n",
    "\n",
    "universidade= {\n",
    "    \"nome\":\"Universidade Federal\",\n",
    "    \"localidade\":{\n",
    "        \"cidade\": \"Salvador\",\n",
    "        \"Bairro\":\"Ondina\"\n",
    "    }\n",
    "}\n",
    "print(universidade[\"nome\"])\n",
    "print(universidade[\"localidade\"][\"cidade\"])"
   ]
  },
  {
   "cell_type": "markdown",
   "metadata": {},
   "source": [
    "### Exercício"
   ]
  },
  {
   "cell_type": "code",
   "execution_count": 33,
   "metadata": {},
   "outputs": [
    {
     "name": "stdout",
     "output_type": "stream",
     "text": [
      "Chaves: ['titulo', 'diretor', 'ano', 'genero']\n",
      "\n",
      "Valores:  ['Inception', 'Christopheer Nollan', 2020, 'Ficção cientifica']\n",
      "\n",
      "Items:  [('titulo', 'Inception'), ('diretor', 'Christopheer Nollan'), ('ano', 2020), ('genero', 'Ficção cientifica')]\n",
      "\n",
      "Copia do dicionario após clear():  {}\n",
      "\n",
      "['Leonardo de Caprio', 'Ellen Page']\n",
      "{'titulo': 'Inception', 'diretor': 'Christopheer Nollan', 'ano': 2020, 'genero': 'Ficção cientifica', 'elenco': ['Leonardo de Caprio', 'Ellen Page']}\n",
      "{'titulo': 'Inception', 'diretor': 'Christopheer Nollan', 'ano': 2020, 'genero': 'Ficção cientifica', 'elenco': ['Leonardo de Caprio', 'Ellen Page'], 'duracao': 148, 'idioma': 'Inglês'}\n",
      "\n",
      "Dicionário após fromkeys {'Nome': 'Desconhecido', 'Idade': 'Desconhecido', 'Ocupação': 'Desconhecido'}\n"
     ]
    }
   ],
   "source": [
    "\n",
    "\n",
    "filme = {\n",
    "    \"titulo\":\"Inception\",\n",
    "    \"diretor\":\"Christopheer Nollan\",\n",
    "    \"ano\": 2020,\n",
    "    \"genero\":\"Ficção cientifica\"\n",
    "\n",
    "}\n",
    "\n",
    "#1. Imprima todas a chaves do dicionario\n",
    "\n",
    "print(\"Chaves:\", list(filme.keys()))\n",
    "print()\n",
    "\n",
    "#Imprima todos os valores do dicionario filme.\n",
    "\n",
    "print(\"Valores: \", list(filme.values()))\n",
    "print()\n",
    "\n",
    "print(\"Items: \", list(filme.items()))\n",
    "print()\n",
    "\n",
    "#Faça uma copia do dicionario filme e limpe todos os elementos dessa copia.\n",
    "\n",
    "filme_copia = filme.copy()\n",
    "filme_copia.clear()\n",
    "print(\"Copia do dicionario após clear(): \",filme_copia)\n",
    "print()\n",
    "\n",
    "\n",
    "#3.setDefault - Verifique se a chave elenco existe no dicionario\n",
    "\n",
    "elenco = filme.setdefault(\"elenco\", [\"Leonardo de Caprio\", \"Ellen Page\"])\n",
    "if elenco:\n",
    " print(elenco)\n",
    "else:\n",
    "    print(\"Chave não existe no dicionário.\")\n",
    "\n",
    "print(filme)\n",
    "\n",
    "#4. Atualize o dicionario com as seguintes informaçoes - duração: 148, idioma: Ingles\n",
    "\n",
    "informacoes_adicionais = {\n",
    "    \"duracao\": 148,\n",
    "    \"idioma\":\"Inglês\"\n",
    "}\n",
    "filme.update(informacoes_adicionais)\n",
    "print(filme)\n",
    "\n",
    "#5. FRomkyes\n",
    "\n",
    "chaves = [\"Nome\", \"Idade\", \"Ocupação\"]\n",
    "\n",
    "perfil = dict.fromkeys(chaves, \"Desconhecido\")\n",
    "print(\"\\nDicionário após fromkeys\", perfil)"
   ]
  }
 ],
 "metadata": {
  "kernelspec": {
   "display_name": "Python 3",
   "language": "python",
   "name": "python3"
  },
  "language_info": {
   "codemirror_mode": {
    "name": "ipython",
    "version": 3
   },
   "file_extension": ".py",
   "mimetype": "text/x-python",
   "name": "python",
   "nbconvert_exporter": "python",
   "pygments_lexer": "ipython3",
   "version": "3.10.12"
  }
 },
 "nbformat": 4,
 "nbformat_minor": 2
}
