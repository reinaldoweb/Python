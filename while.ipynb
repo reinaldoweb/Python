{
 "cells": [
  {
   "cell_type": "code",
   "execution_count": null,
   "metadata": {},
   "outputs": [],
   "source": [
    "# while\n",
    "\n",
    "numero = 1\n",
    "\n",
    "while numero <= 10:\n",
    "    print(numero)\n",
    "    numero += 1"
   ]
  },
  {
   "cell_type": "code",
   "execution_count": 2,
   "metadata": {},
   "outputs": [],
   "source": [
    "maiorNumero = -1\n",
    "\n",
    "numero_digitado = int(input(\"Digite um numero inteiro e maior que zero:  \"))\n",
    "\n",
    "while numero_digitado >= 0:\n",
    "    if numero_digitado > maiorNumero:\n",
    "        maiorNumero = numero_digitado\n",
    "    numero_digitado = int(input(\"Digite um numero inteiro e maior que zero:  \"))\n",
    "\n",
    "print(\"Maior número: \", maiorNumero)"
   ]
  }
 ],
 "metadata": {
  "kernelspec": {
   "display_name": "Python 3",
   "language": "python",
   "name": "python3"
  },
  "language_info": {
   "codemirror_mode": {
    "name": "ipython",
    "version": 3
   },
   "file_extension": ".py",
   "mimetype": "text/x-python",
   "name": "python",
   "nbconvert_exporter": "python",
   "pygments_lexer": "ipython3",
   "version": "3.10.12"
  }
 },
 "nbformat": 4,
 "nbformat_minor": 2
}
