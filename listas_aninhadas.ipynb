{
 "cells": [
  {
   "cell_type": "code",
   "execution_count": 6,
   "metadata": {},
   "outputs": [
    {
     "name": "stdout",
     "output_type": "stream",
     "text": [
      "5\n",
      "1 2 3 \n",
      "4 5 6 \n",
      "7 8 9 \n",
      "[[1, 4, 7], [2, 5, 8], [3, 6, 9]]\n"
     ]
    }
   ],
   "source": [
    "#Criando listas aninhadas\n",
    "\n",
    "matriz = [\n",
    "    [1, 2, 3],\n",
    "    [4, 5, 6],\n",
    "    [7, 8, 9]]\n",
    "\n",
    "#Para acessar o numero 5\n",
    "\n",
    "print(matriz[1][1])\n",
    "\n",
    "#Utilizando Loops aninhados para interar\n",
    "\n",
    "for linha in matriz:\n",
    "    for coluna in linha:\n",
    "        print(coluna, end=\" \")\n",
    "    print()\n",
    "\n",
    "#Lista transposta\n",
    "\n",
    "matriz_transposta = []\n",
    "#Loop através de cada coluna da matriz original\n",
    "for coluna in range(len(matriz[0])):\n",
    "\n",
    "#Inicializa uma linha temporária para construir uma linha da matriz transposta\n",
    "    linha_transposta = []\n",
    "\n",
    "#Loop para percorrer cada linha da matriz original\n",
    "    for linha in range(len(matriz)):\n",
    "\n",
    "#Adiciona o valor da coluna da linha atual na linha temporária\n",
    "        linha_transposta.append(matriz[linha][coluna])\n",
    "\n",
    "#Adiciona a linha temporária na matriz transposta\n",
    "    matriz_transposta.append(linha_transposta)\n",
    "\n",
    "#Imprime a matriz\n",
    "print(matriz_transposta)"
   ]
  },
  {
   "cell_type": "code",
   "execution_count": 9,
   "metadata": {},
   "outputs": [
    {
     "name": "stdout",
     "output_type": "stream",
     "text": [
      "Lista de Listas:  6\n",
      "\n",
      "Soma dos valores da matriz: 45\n",
      "1\t2\t3\t\n",
      "4\t5\t6\t\n",
      "7\t8\t9\t\n"
     ]
    }
   ],
   "source": [
    "#Exercicio de Listas Aninhadas\n",
    "\n",
    "matriz = [\n",
    "    [1, 2, 3],\n",
    "    [4, 5, 6],\n",
    "    [7, 8, 9]\n",
    "    ]\n",
    "\n",
    "#Represent esse matriz com uma lista de listas\n",
    "\n",
    "# 1. Acesse e imprima o valor localizado na segunda linha e terceira coluna(numero 6)\n",
    "\n",
    "print(\"Lista de Listas: \",matriz[1][2])\n",
    "\n",
    "print()\n",
    "\n",
    "# 2. Utilizando loops aninhados, calcule e imprima a soma de todos os valores presentes na matriz\n",
    "\n",
    "soma = 0\n",
    "for linha in matriz:\n",
    "    for numero in linha:\n",
    "        soma += numero\n",
    "print(f\"Soma dos valores da matriz: {soma}\")\n",
    "\n",
    "# 3. Usando Loops aninhados, imprima a matriz linha por linha, e cada elemento separado por tabulação \\t.\n",
    "\n",
    "for linha in matriz:\n",
    "    for coluna in linha:\n",
    "        print(coluna, end=\"\\t\")\n",
    "    print()\n",
    "\n",
    "\n",
    "\n"
   ]
  }
 ],
 "metadata": {
  "kernelspec": {
   "display_name": "Python 3",
   "language": "python",
   "name": "python3"
  },
  "language_info": {
   "codemirror_mode": {
    "name": "ipython",
    "version": 3
   },
   "file_extension": ".py",
   "mimetype": "text/x-python",
   "name": "python",
   "nbconvert_exporter": "python",
   "pygments_lexer": "ipython3",
   "version": "3.10.12"
  }
 },
 "nbformat": 4,
 "nbformat_minor": 2
}
