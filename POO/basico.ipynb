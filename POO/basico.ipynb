{
 "cells": [
  {
   "cell_type": "code",
   "execution_count": 14,
   "metadata": {},
   "outputs": [
    {
     "name": "stdout",
     "output_type": "stream",
     "text": [
      "1984\n",
      "Geroge WEll\n",
      "2000\n"
     ]
    }
   ],
   "source": [
    "#!.Classes e objetos\n",
    "\n",
    "class Livro:\n",
    "    def __init__(self, titulo, autor, ano):\n",
    "        self.titulo = titulo\n",
    "        self.autor = autor\n",
    "        self.ano = ano\n",
    "\n",
    "meu_livro = Livro(\"1984\", \"Geroge WEll\", 2000)\n",
    "\n",
    "print(meu_livro.titulo)\n",
    "print(meu_livro.autor)\n",
    "print(meu_livro.ano)\n",
    "\n",
    "\n",
    "\n",
    "\n"
   ]
  },
  {
   "cell_type": "code",
   "execution_count": 20,
   "metadata": {},
   "outputs": [
    {
     "name": "stdout",
     "output_type": "stream",
     "text": [
      "'1949' por Jose da Silva, publicado em 1980\n"
     ]
    }
   ],
   "source": [
    "#Metodos\n",
    "\n",
    "class Livro:\n",
    "\n",
    "    def __init__(self, titulo, autor, ano):\n",
    "\n",
    "        self.titulo = titulo\n",
    "        self.autor = autor\n",
    "        self.ano = ano\n",
    "\n",
    "    def descricao(self):\n",
    "\n",
    "        return f\"'{self.titulo}' por {self.autor}, publicado em {self.ano}\"\n",
    "\n",
    "meu_livro = Livro(\"1949\", \"Jose da Silva\", 1980)\n",
    "\n",
    "print(meu_livro.descricao())\n"
   ]
  },
  {
   "cell_type": "code",
   "execution_count": 3,
   "metadata": {},
   "outputs": [
    {
     "name": "stdout",
     "output_type": "stream",
     "text": [
      "Marca: Fiat, modelo: Ideia, cor: verde\n",
      "Velocidade atual 10 km/h\n",
      "Velocidade atual 20 km/h\n",
      "Velocidade atual 30 km/h\n",
      "Velocidade atual 20 km/h\n"
     ]
    }
   ],
   "source": [
    "#Definindo instanciando classe\n",
    "\n",
    "class Carro:\n",
    "\n",
    "    def __init__(self, marca, modelo, cor):\n",
    "        self.marca = marca\n",
    "        self.modelo = modelo\n",
    "        self.cor = cor\n",
    "        self.velocidade = 0\n",
    "\n",
    "    def acelerar(self):\n",
    "\n",
    "        self.velocidade += 10\n",
    "\n",
    "        print(f\"Velocidade atual {self.velocidade} km/h\")\n",
    "\n",
    "    def frenar(self):\n",
    "        self.velocidade -= 10\n",
    "\n",
    "        if self.velocidade < 10:\n",
    "\n",
    "            self.velocidade = 0\n",
    "\n",
    "        print(f\"Velocidade atual {self.velocidade} km/h\")\n",
    "\n",
    "    def exibir_info(self):\n",
    "      print(f\"Marca: {self.marca}, modelo: {self.modelo}, cor: {self.cor}\")\n",
    "\n",
    "#Instanciando objetos da classe Carro\n",
    "\n",
    "Carro1 = Carro(\"Fiat\", \"Ideia\", \"verde\")\n",
    "\n",
    "Carro1.exibir_info()\n",
    "Carro1.acelerar()\n",
    "Carro1.acelerar()\n",
    "Carro1.acelerar()\n",
    "\n",
    "Carro1.frenar()\n",
    "Carro1.frenar()\n",
    "Carro1.frenar()\n",
    "\n"
   ]
  }
 ],
 "metadata": {
  "kernelspec": {
   "display_name": "Python 3",
   "language": "python",
   "name": "python3"
  },
  "language_info": {
   "codemirror_mode": {
    "name": "ipython",
    "version": 3
   },
   "file_extension": ".py",
   "mimetype": "text/x-python",
   "name": "python",
   "nbconvert_exporter": "python",
   "pygments_lexer": "ipython3",
   "version": "3.10.12"
  }
 },
 "nbformat": 4,
 "nbformat_minor": 2
}
