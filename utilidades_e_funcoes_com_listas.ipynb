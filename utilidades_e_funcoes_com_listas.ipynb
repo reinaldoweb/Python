{
 "cells": [
  {
   "cell_type": "code",
   "execution_count": 1,
   "metadata": {},
   "outputs": [
    {
     "name": "stdout",
     "output_type": "stream",
     "text": [
      "10\n",
      "90\n",
      "11\n",
      "480\n"
     ]
    }
   ],
   "source": [
    "\"\"\"\n",
    "    Utilidades e funções com listas\n",
    "        len(): retorna o número de itens em um objeto\n",
    "        max(): retorna o maior valor em um objeto\n",
    "        min(): retorna o menor valor em um objeto\n",
    "        sum(): retorna a soma de todos os itens em um objeto\n",
    "\"\"\"\n",
    "\n",
    "numeros = [ 23,11,89,34,11,86,78,90,35,23]\n",
    "\n",
    "print(len(numeros))\n",
    "print(max(numeros))\n",
    "print(min(numeros))\n",
    "print(sum(numeros))\n"
   ]
  },
  {
   "cell_type": "code",
   "execution_count": 1,
   "metadata": {},
   "outputs": [
    {
     "name": "stdout",
     "output_type": "stream",
     "text": [
      "O número de elementos da lista é: 10\n",
      "\n",
      "O maior valor da lista é: 90\n",
      "\n",
      "O menor valor da lista é: 11\n",
      "\n",
      "A soma dos valores da lista é: 480\n",
      "\n",
      "A média dos pesos é: 66.12\n"
     ]
    }
   ],
   "source": [
    "#Exercicio de utilidades e funções com listas\n",
    "\n",
    "lista = [ 23,11,89,34,11,86,78,90,35,23]\n",
    "numero_elementos = len(lista)\n",
    "print(f\"O número de elementos da lista é: {numero_elementos}\")\n",
    "print()\n",
    "\n",
    "maior_valor = max(lista)\n",
    "menor_valor = min(lista)\n",
    "soma_valor =sum(lista)\n",
    "\n",
    "print(f\"O maior valor da lista é: {maior_valor}\")\n",
    "print()\n",
    "print(f\"O menor valor da lista é: {menor_valor}\")\n",
    "print()\n",
    "print(f\"A soma dos valores da lista é: {soma_valor}\")\n",
    "\n",
    "print()\n",
    "\n",
    "#Calcule e imprima a media dos pesos\n",
    "pesos = [58.5, 63.2, 71.3, 69.4, 68.2]\n",
    "\n",
    "quantidade = len(pesos)\n",
    "media =sum(pesos[:quantidade]) / quantidade\n",
    "print(f\"A média dos pesos é: {media:.2f}\")\n"
   ]
  },
  {
   "cell_type": "markdown",
   "metadata": {},
   "source": []
  }
 ],
 "metadata": {
  "kernelspec": {
   "display_name": "Python 3",
   "language": "python",
   "name": "python3"
  },
  "language_info": {
   "codemirror_mode": {
    "name": "ipython",
    "version": 3
   },
   "file_extension": ".py",
   "mimetype": "text/x-python",
   "name": "python",
   "nbconvert_exporter": "python",
   "pygments_lexer": "ipython3",
   "version": "3.10.12"
  }
 },
 "nbformat": 4,
 "nbformat_minor": 2
}
