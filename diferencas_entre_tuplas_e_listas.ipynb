{
 "cells": [
  {
   "cell_type": "code",
   "execution_count": 5,
   "metadata": {},
   "outputs": [
    {
     "name": "stdout",
     "output_type": "stream",
     "text": [
      "('Aracaju', 'Sergipe', '2354')\n",
      "\n",
      "['Noite agradavel', 'Otimos restaurantes', 'Praias maravilhosas', 'Sol escaldantes']\n"
     ]
    }
   ],
   "source": [
    "destino_turistico = ('Aracaju', 'Sergipe', '2354')\n",
    "\n",
    "print(destino_turistico)\n",
    "\n",
    "print()\n",
    "\n",
    "feedback_aracaju = [\n",
    "    'Noite agradavel',\n",
    "    'Otimos restaurantes',\n",
    "    'Praias maravilhosas'\n",
    "]\n",
    "\n",
    "feedback_aracaju.append(\"Sol escaldantes\")\n",
    "\n",
    "print(feedback_aracaju)"
   ]
  }
 ],
 "metadata": {
  "kernelspec": {
   "display_name": "Python 3",
   "language": "python",
   "name": "python3"
  },
  "language_info": {
   "codemirror_mode": {
    "name": "ipython",
    "version": 3
   },
   "file_extension": ".py",
   "mimetype": "text/x-python",
   "name": "python",
   "nbconvert_exporter": "python",
   "pygments_lexer": "ipython3",
   "version": "3.10.12"
  }
 },
 "nbformat": 4,
 "nbformat_minor": 2
}
