{
 "cells": [
  {
   "cell_type": "code",
   "execution_count": 3,
   "metadata": {},
   "outputs": [
    {
     "name": "stdout",
     "output_type": "stream",
     "text": [
      "('Orgulho e precoceito', 'Jane Austen', 1813)\n",
      "Orgulho e precoceito\n",
      "Jane Austen\n",
      "1813\n"
     ]
    }
   ],
   "source": [
    "### Exercicio\n",
    "\n",
    "#Crei uma tupla chamada livro1 para armazenar informações sobre um livro: titulo, autor e ano de publicacao\n",
    "\n",
    "livro1 = (\"Orgulho e precoceito\", \"Jane Austen\", 1813)\n",
    "\n",
    "print(livro1)\n",
    "\n",
    "titulo = livro1[0]\n",
    "autor = livro1[1]\n",
    "ano = livro1[2]\n",
    "\n",
    "print(titulo)\n",
    "print(autor)\n",
    "print(ano)"
   ]
  },
  {
   "cell_type": "code",
   "execution_count": 4,
   "metadata": {},
   "outputs": [
    {
     "name": "stdout",
     "output_type": "stream",
     "text": [
      "O pequeno principe\n"
     ]
    }
   ],
   "source": [
    "#2. Tupla com um unico elemento:\n",
    "livro_indefinido = (\"O pequeno principe\",)\n",
    "titulo = livro_indefinido[0]\n",
    "print(titulo)"
   ]
  },
  {
   "cell_type": "code",
   "execution_count": 5,
   "metadata": {},
   "outputs": [
    {
     "name": "stdout",
     "output_type": "stream",
     "text": [
      "('1985', 'O pequeno principe', '1948')\n"
     ]
    }
   ],
   "source": [
    "# 3 - Tupla sem parenteses\n",
    "livro_2 = \"1985\", \"O pequeno principe\", \"1948\"\n",
    "\n",
    "print(livro_2)"
   ]
  },
  {
   "cell_type": "markdown",
   "metadata": {},
   "source": [
    "###Uso da Função tuple\n"
   ]
  },
  {
   "cell_type": "code",
   "execution_count": 6,
   "metadata": {},
   "outputs": [
    {
     "name": "stdout",
     "output_type": "stream",
     "text": [
      "('O Senho dos aneis', 'J.R.R Tolkien', 1954)\n"
     ]
    }
   ],
   "source": [
    "lista = [\"O Senho dos aneis\", \"J.R.R Tolkien\", 1954]\n",
    "\n",
    "livro3 = tuple(lista)\n",
    "\n",
    "print(livro3)"
   ]
  },
  {
   "cell_type": "markdown",
   "metadata": {},
   "source": [
    "###Operação cpom tuplas"
   ]
  },
  {
   "cell_type": "code",
   "execution_count": 1,
   "metadata": {},
   "outputs": [
    {
     "name": "stdout",
     "output_type": "stream",
     "text": [
      "(1, 2, 3, 4)\n"
     ]
    }
   ],
   "source": [
    "# Concatenando tuplas\n",
    "\n",
    "primeiras_cidades = (1,2)\n",
    "proximas_cidades = (3,4)\n",
    "\n",
    "destino_viagem = primeiras_cidades + proximas_cidades\n",
    "\n",
    "print(destino_viagem)"
   ]
  },
  {
   "cell_type": "markdown",
   "metadata": {},
   "source": [
    "### 2. Repetição - visitando algumas cidades mais de uma vez"
   ]
  },
  {
   "cell_type": "code",
   "execution_count": 3,
   "metadata": {},
   "outputs": [
    {
     "name": "stdout",
     "output_type": "stream",
     "text": [
      "(1, 2, 1, 2)\n"
     ]
    }
   ],
   "source": [
    "cidades_favoritas = (1,2)\n",
    "roteiro_repetido = cidades_favoritas * 2\n",
    "print(roteiro_repetido)"
   ]
  },
  {
   "cell_type": "markdown",
   "metadata": {},
   "source": [
    "### 3. Verificar se um elemento está na tupla"
   ]
  },
  {
   "cell_type": "code",
   "execution_count": 5,
   "metadata": {},
   "outputs": [
    {
     "name": "stdout",
     "output_type": "stream",
     "text": [
      "False\n"
     ]
    }
   ],
   "source": [
    "# Verifica se a cidade está inclusa no roteiro\n",
    "\n",
    "roteiro_total = (1,2,3,4,1,2,2,1,5)\n",
    "\n",
    "roteiro_incluso = 20 in roteiro_total\n",
    "\n",
    "print(roteiro_incluso)"
   ]
  },
  {
   "cell_type": "markdown",
   "metadata": {},
   "source": [
    "####Exercicio"
   ]
  },
  {
   "cell_type": "code",
   "execution_count": 6,
   "metadata": {},
   "outputs": [
    {
     "name": "stdout",
     "output_type": "stream",
     "text": [
      "(1, 2, 3, 4)\n"
     ]
    }
   ],
   "source": [
    "## 1. Você posui duas sequencias: A = (1,2)  B = (3,4)\n",
    "# Cria uma nova sequencia C combinando A e B\n",
    "\n",
    "A = (1,2)\n",
    "B = (3,4)\n",
    "\n",
    "C = A + B\n",
    "\n",
    "print(C)"
   ]
  },
  {
   "cell_type": "markdown",
   "metadata": {},
   "source": [
    "###Repetição de Sequencia"
   ]
  },
  {
   "cell_type": "code",
   "execution_count": 8,
   "metadata": {},
   "outputs": [
    {
     "name": "stdout",
     "output_type": "stream",
     "text": [
      "(1, 2, 1, 2, 1, 2)\n"
     ]
    }
   ],
   "source": [
    "# Repetir a sequencia A 3 vezes para obter uma nova sequencia D\n",
    "\n",
    "D = A * 3\n",
    "\n",
    "print(D)\n"
   ]
  },
  {
   "cell_type": "markdown",
   "metadata": {},
   "source": [
    "###Analise de elementos em sequencia:\n",
    "Utilizando a sequencia E = (1,2,3,4,1,2,2,1), verfique se o numero 2 está presente na sequencia"
   ]
  },
  {
   "cell_type": "code",
   "execution_count": 9,
   "metadata": {},
   "outputs": [
    {
     "name": "stdout",
     "output_type": "stream",
     "text": [
      "True\n"
     ]
    }
   ],
   "source": [
    "E = (1,2,3,4,1,2)\n",
    "\n",
    "F = 2 in E\n",
    "\n",
    "print(F)"
   ]
  },
  {
   "cell_type": "markdown",
   "metadata": {},
   "source": [
    "####Medotos de tuplas count(), index()"
   ]
  },
  {
   "cell_type": "code",
   "execution_count": 11,
   "metadata": {},
   "outputs": [
    {
     "name": "stdout",
     "output_type": "stream",
     "text": [
      "5\n",
      "11\n"
     ]
    }
   ],
   "source": [
    "##Dados fornecidos: avaliacoes = (5,4,4,6,5,2,4,3,5,5,1,4,3,5,2)\n",
    "avaliacoes = (5,4,4,6,5,2,4,3,5,5,1,4,3,5,2)\n",
    "#1-Determine a quantidade de avaliações com 5 estrela\n",
    "numero_5_estrelas = avaliacoes.count(5)\n",
    "print(numero_5_estrelas)\n",
    "#2-Quantas vezez o filme foi avaliado com 5 esrelas\n",
    "#3 - Primeira avaliação de 1 estrela\n",
    "primeria_avalizacao_1_estrela = avaliacoes.index(1) + 1\n",
    "print(primeria_avalizacao_1_estrela)\n",
    "\n",
    "\n",
    "\n"
   ]
  },
  {
   "cell_type": "markdown",
   "metadata": {},
   "source": [
    "###Desempacotamento de tuplas"
   ]
  },
  {
   "cell_type": "code",
   "execution_count": 7,
   "metadata": {},
   "outputs": [
    {
     "name": "stdout",
     "output_type": "stream",
     "text": [
      "O destino do pacote de viagem é Paris\n",
      "Quantidade de noites: 5\n",
      "Preco do pacote R$ 1500\n"
     ]
    }
   ],
   "source": [
    "# Exercicio Gestão de pacotes de viagens\n",
    "\n",
    "#Dados fornecidos\n",
    "pacote_viagem = (\"Paris\", 5, 1500)\n",
    "\n",
    "destino, noites, preco = pacote_viagem\n",
    "\n",
    "print(f\"O destino do pacote de viagem é {destino}\")\n",
    "print(f\"Quantidade de noites: {noites}\")\n",
    "print(f\"Preco do pacote R$ {preco}\")\n"
   ]
  }
 ],
 "metadata": {
  "kernelspec": {
   "display_name": "Python 3",
   "language": "python",
   "name": "python3"
  },
  "language_info": {
   "codemirror_mode": {
    "name": "ipython",
    "version": 3
   },
   "file_extension": ".py",
   "mimetype": "text/x-python",
   "name": "python",
   "nbconvert_exporter": "python",
   "pygments_lexer": "ipython3",
   "version": "3.10.12"
  }
 },
 "nbformat": 4,
 "nbformat_minor": 2
}
