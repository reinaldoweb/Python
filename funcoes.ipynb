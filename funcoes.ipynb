{
 "cells": [
  {
   "cell_type": "code",
   "execution_count": 9,
   "metadata": {},
   "outputs": [
    {
     "name": "stdout",
     "output_type": "stream",
     "text": [
      "4.333333333333333\n",
      "6.0\n",
      "2.0\n"
     ]
    }
   ],
   "source": [
    "#Função para calcular estatistica de numeros\n",
    "\n",
    "#Função para calcular estatisticas\n",
    "def estatisticas(*args):\n",
    "\n",
    "    return sum(args) / len(args), max(args), min(args)\n",
    "\n",
    "\n",
    "numeros = list(map(float, input(\"Digite uma sequência de números separados por espaços: \").split()))\n",
    "\n",
    "media, maior, menor = estatisticas(*numeros)\n",
    "\n",
    "print(media)\n",
    "print(maior)\n",
    "print(menor)\n"
   ]
  },
  {
   "cell_type": "code",
   "execution_count": 15,
   "metadata": {},
   "outputs": [
    {
     "name": "stdout",
     "output_type": "stream",
     "text": [
      "nome:Reinaldo\n",
      "idade:56\n",
      "cidade:Salvador\n",
      "UF:Ba\n"
     ]
    }
   ],
   "source": [
    "#Função kawarks\n",
    "\n",
    "def exibir_informacoes(**kwargs):\n",
    "    for chave, valor in kwargs.items():\n",
    "        print(chave + \":\" + str(valor))\n",
    "exibir_informacoes(nome=\"Reinaldo\", idade=56, cidade=\"Salvador\", UF=\"Ba\") #"
   ]
  },
  {
   "cell_type": "code",
   "execution_count": 22,
   "metadata": {},
   "outputs": [
    {
     "name": "stdout",
     "output_type": "stream",
     "text": [
      "Resultado da operação 36.0\n"
     ]
    }
   ],
   "source": [
    "#Calculadora com funções\n",
    "\n",
    "def adicionar(a, b):\n",
    "    return a + b\n",
    "\n",
    "def subtrair(a, b):\n",
    "    return a - b\n",
    "\n",
    "def multiplicar(a, b):\n",
    "    return a * b\n",
    "\n",
    "def dividir(a, b):\n",
    "    return a / b\n",
    "\n",
    "\n",
    "num1 = float(input(\"Digite o primeiro número: \"))\n",
    "\n",
    "num2 = float(input(\"Digite o segundo número: \"))\n",
    "\n",
    "opcao = input(\"Escolha a operação desejada(Adicionar, subtrair, multiplicar, dividir): \")\n",
    "\n",
    "if opcao == \"adicionar\":\n",
    "\n",
    "    resultado =  adicionar(num1, num1)\n",
    "\n",
    "elif opcao == \"subtrair\":\n",
    "    resultado = subtrair(num1, num2)\n",
    "\n",
    "elif opcao == \"multiplicar\":\n",
    "    resultado = multiplicar(num1, num2)\n",
    "\n",
    "elif opcao == \"dividir\":\n",
    "    resultado = dividir(num1, num2)\n",
    "else:\n",
    "    print(\"Opção invalida\")\n",
    "\n",
    "\n",
    "print(\"Resultado da operação\",resultado)\n"
   ]
  },
  {
   "cell_type": "code",
   "execution_count": 24,
   "metadata": {},
   "outputs": [
    {
     "name": "stdout",
     "output_type": "stream",
     "text": [
      "Total:  49\n"
     ]
    }
   ],
   "source": [
    "#Fabrica de Funções de Operações Matemáticas\n",
    "\n",
    "def fabrica_de_funcoes(operacao):\n",
    "\n",
    "\n",
    "    def soma(*args):\n",
    "        return sum(args)\n",
    "\n",
    "    def subtracao(*args):\n",
    "        return args[0]\n",
    "\n",
    "        resultado = args[0]\n",
    "\n",
    "        # Itera sobre todos os números após o primeiro\n",
    "        for num in args[1:]:\n",
    "\n",
    "            #resultado = resultado - num\n",
    "            resultado -= num\n",
    "\n",
    "            return resultado\n",
    "\n",
    "    # Esta função multiplica todos os números fornecidos.\n",
    "    def multiplicacao(*args):\n",
    "\n",
    "        resultado = 1\n",
    "\n",
    "        # Itera sobre todos os números e os multiplica\n",
    "        for num in args:\n",
    "         #resultado = resultado * num\n",
    "         resultado *= num\n",
    "        return resultado\n",
    "\n",
    "    def divisao(*args):\n",
    "        resultado = args[0]\n",
    "\n",
    "        for num in args[1:]:\n",
    "         if num == 0:\n",
    "            raise ValueError(\"Divisão por zero não é permitida!\")\n",
    "            resultado /= num\n",
    "        return resultado\n",
    "\n",
    "    if operacao == \"soma\":\n",
    "        return soma\n",
    "\n",
    "    elif operacao == \"subtracao\":\n",
    "        return subtracao\n",
    "\n",
    "    elif operacao == \"multiplicacao\":\n",
    "        return multiplicacao\n",
    "\n",
    "\n",
    "    elif operacao == \"divisao\":\n",
    "        return divisao\n",
    "\n",
    "    else:\n",
    "\n",
    "        def operecao_nao_suportada(*args):\n",
    "            return \"Operação não suportada\"\n",
    "            return operacao_nao_suportada\n",
    "\n",
    "adicionar = fabrica_de_funcoes(\"soma\")\n",
    "print(\"Total: \", adicionar(5, 3, 21, 9, 4, 7)) # Esperado: 30\n",
    "\n",
    "\n"
   ]
  },
  {
   "cell_type": "code",
   "execution_count": 21,
   "metadata": {},
   "outputs": [
    {
     "name": "stdout",
     "output_type": "stream",
     "text": [
      "Função Regular:  10\n",
      "Função Lambda 10\n"
     ]
    }
   ],
   "source": [
    "# Exemplo de função Regular e com Lambda\n",
    "\n",
    "# Funçãio Regular\n",
    "def dobro(n):\n",
    "    return n*2\n",
    "print(\"Função Regular: \",dobro(5))\n",
    "\n",
    "# Função Lambda\n",
    "\n",
    "dobro_lambda = lambda n : n * 2\n",
    "print(\"Função Lambda\", dobro_lambda(5))"
   ]
  },
  {
   "cell_type": "code",
   "execution_count": 25,
   "metadata": {},
   "outputs": [
    {
     "name": "stdout",
     "output_type": "stream",
     "text": [
      "[2, 4, 6, 8, 10]\n"
     ]
    }
   ],
   "source": [
    "# Função Lambda com filter\n",
    "\n",
    "# Lista de númros\n",
    "numeros = [1, 2, 3, 4, 5, 6, 7, 8, 9, 10]\n",
    "\n",
    "pares = list(filter(lambda n: n % 2 == 0, numeros))\n",
    "print(pares)"
   ]
  },
  {
   "cell_type": "code",
   "execution_count": 27,
   "metadata": {},
   "outputs": [
    {
     "name": "stdout",
     "output_type": "stream",
     "text": [
      "['Ana', 'Amelia']\n"
     ]
    }
   ],
   "source": [
    "# Filtrar apenas nomes que começam com a letra A\n",
    "\n",
    "nomes = [\"Ana\", \"Maria\", \"Joana\", \"Amelia\", \"Rosana\"]\n",
    "\n",
    "filtro = list(filter(lambda nome: nome[0] == \"A\", nomes))\n",
    "print(filtro)"
   ]
  },
  {
   "cell_type": "code",
   "execution_count": 28,
   "metadata": {},
   "outputs": [
    {
     "name": "stdout",
     "output_type": "stream",
     "text": [
      "[1, 4, 9, 16, 25]\n"
     ]
    }
   ],
   "source": [
    "\n",
    "\n",
    "numeros = [1,2,3,4,5]\n",
    "\n",
    "numeros_quadrados = list(map(lambda numero: numero**2, numeros))\n",
    "\n",
    "print(numeros_quadrados)"
   ]
  },
  {
   "cell_type": "code",
   "execution_count": 1,
   "metadata": {},
   "outputs": [
    {
     "name": "stdout",
     "output_type": "stream",
     "text": [
      "[15, 10, 7]\n"
     ]
    }
   ],
   "source": [
    "# Dada uma lista de palavras, retorne uma nova lista de palavras contendo o comprimento de cada palavra\n",
    "\n",
    "lista_palavras = [\"ArithmeticError\", \"Dicionario\", \"Armario\"]\n",
    "\n",
    "comprimento = list(map(lambda x: len(x), lista_palavras))\n",
    "\n",
    "print(comprimento)"
   ]
  },
  {
   "cell_type": "code",
   "execution_count": 5,
   "metadata": {},
   "outputs": [
    {
     "name": "stdout",
     "output_type": "stream",
     "text": [
      "Números impares:  [5, 15, 23, 25]\n",
      "Quadrado dos impares:  [25, 225, 529, 625]\n"
     ]
    }
   ],
   "source": [
    "# Filtrando e transformando Dados com função lambda\n",
    "\n",
    "lista = [2, 5, 8,10, 12, 15, 18, 20, 23, 25, 28]\n",
    "\n",
    "impares = list(filter(lambda n: n % 2 !=0, lista))\n",
    "\n",
    "print(\"Números impares: \", impares)\n",
    "\n",
    "\n",
    "quadrado = list(map(lambda n: n**2, impares))\n",
    "\n",
    "print(\"Quadrado dos impares: \", quadrado)"
   ]
  },
  {
   "cell_type": "code",
   "execution_count": 7,
   "metadata": {},
   "outputs": [
    {
     "name": "stdout",
     "output_type": "stream",
     "text": [
      "Maria\n",
      "3\n"
     ]
    }
   ],
   "source": [
    "#Funções Interna (built-in) do Python\n",
    "\n",
    "nome = \"Maria\"\n",
    "\n",
    "print(nome)\n",
    "\n",
    "lista =[1,2,3]\n",
    "print(len(lista))"
   ]
  },
  {
   "cell_type": "code",
   "execution_count": 10,
   "metadata": {},
   "outputs": [
    {
     "name": "stdout",
     "output_type": "stream",
     "text": [
      "7\n",
      "5.6\n",
      "123\n"
     ]
    }
   ],
   "source": [
    "#Conversao de tipos\n",
    "\n",
    "numero_decimal = \"7.9\"\n",
    "numero_inteiro = int(float(numero_decimal))\n",
    "print(numero_inteiro)\n",
    "\n",
    "#Floiat\n",
    "\n",
    "numero_Str = \"5.6\"\n",
    "\n",
    "numero_float = float(numero_Str)\n",
    "print(numero_float)\n",
    "\n",
    "#str() - Converte um valor para string\n",
    "\n",
    "numero = 123\n",
    "\n",
    "numero_srt = str(numero)\n",
    "\n",
    "print(numero_srt)"
   ]
  },
  {
   "cell_type": "code",
   "execution_count": 15,
   "metadata": {},
   "outputs": [
    {
     "name": "stdout",
     "output_type": "stream",
     "text": [
      "10\n",
      "9\n",
      "8\n",
      "7\n",
      "6\n",
      "5\n",
      "4\n",
      "3\n",
      "2\n",
      "1\n",
      "Fatorial: 120\n"
     ]
    }
   ],
   "source": [
    "#Recurssão\n",
    "#São funções que chamam a se mesmo\n",
    "\n",
    "\n",
    "def contar_regresivamente(n):\n",
    "\n",
    "    if n > 0:\n",
    "        print(n)\n",
    "        contar_regresivamente(n-1)\n",
    "contar_regresivamente(10)\n",
    "\n",
    "\n",
    "#Fatorial\n",
    "\n",
    "def fatorial(n):\n",
    "    if n == 0:\n",
    "        return 1\n",
    "    else:\n",
    "        return n * fatorial(n-1)\n",
    "\n",
    "print(\"Fatorial:\", fatorial(5))"
   ]
  },
  {
   "cell_type": "code",
   "execution_count": null,
   "metadata": {},
   "outputs": [],
   "source": [
    "#Riscos e limitações da recursão em Python\n",
    "\n",
    "def recursao_infinita(n):\n",
    "    print(n)\n",
    "    return recursao_infinita(n+1)\n",
    "\n",
    "recursao_infinita(1)"
   ]
  }
 ],
 "metadata": {
  "kernelspec": {
   "display_name": "Python 3",
   "language": "python",
   "name": "python3"
  },
  "language_info": {
   "codemirror_mode": {
    "name": "ipython",
    "version": 3
   },
   "file_extension": ".py",
   "mimetype": "text/x-python",
   "name": "python",
   "nbconvert_exporter": "python",
   "pygments_lexer": "ipython3",
   "version": "3.10.12"
  }
 },
 "nbformat": 4,
 "nbformat_minor": 2
}
