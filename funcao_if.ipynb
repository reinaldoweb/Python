{
 "cells": [
  {
   "cell_type": "code",
   "execution_count": 1,
   "metadata": {},
   "outputs": [
    {
     "name": "stdout",
     "output_type": "stream",
     "text": [
      "num1 maior que num2\n"
     ]
    }
   ],
   "source": [
    "# Python funçã if\n",
    "\n",
    "num1 = 20\n",
    "num2 = 10\n",
    "\n",
    "#Se a variavel num1 for maior que a variavel num2\n",
    "\n",
    "if (num1 > num2):\n",
    "    print(\"num1 maior que num2\")"
   ]
  },
  {
   "cell_type": "code",
   "execution_count": 3,
   "metadata": {},
   "outputs": [
    {
     "name": "stdout",
     "output_type": "stream",
     "text": [
      "num1 é igual a num2\n"
     ]
    }
   ],
   "source": [
    "# Função if e elif\n",
    "\n",
    "num1 = 6\n",
    "num2 = 6\n",
    "if (num1 > num2):\n",
    "    print(\"num1 é maior que num2\")\n",
    "elif (num1== num2):\n",
    "    print(\"num1 é igual a num2\")"
   ]
  },
  {
   "cell_type": "code",
   "execution_count": 17,
   "metadata": {},
   "outputs": [
    {
     "name": "stdout",
     "output_type": "stream",
     "text": [
      "Você digitou o numero correto\n"
     ]
    }
   ],
   "source": [
    "# Numero Secreto\n",
    "num_secreto = 7\n",
    "\n",
    "chute = int(input(\"Dgite um numero entre 1 e 10\"))\n",
    "\n",
    "if chute == num_secreto:\n",
    "    print(\"Você digitou o numero correto\")\n",
    "\n",
    "else:\n",
    "    print(\"Você digitou o numero errado\")\n",
    "\n"
   ]
  },
  {
   "cell_type": "code",
   "execution_count": 35,
   "metadata": {},
   "outputs": [
    {
     "name": "stdout",
     "output_type": "stream",
     "text": [
      "Voce é elegível para votar\n"
     ]
    }
   ],
   "source": [
    "# Exercicio\n",
    "# Idade minima para votar é de 18 manos\n",
    "\n",
    "idade_minima = 18\n",
    "\n",
    "# Inserir a idade quando solicitado\n",
    "idade = int(input(\"Digite sua idade\"))\n",
    "\n",
    "# Verifica a egibilidade para vota\n",
    "if idade >= idade_minima:\n",
    "\n",
    "#O programa irá informar se você é elegível para votar ou não.\n",
    "    print(\"Voce é elegível para votar\")\n",
    "else:\n",
    "    print(\"Você não está elegivel para votar\")"
   ]
  },
  {
   "cell_type": "code",
   "execution_count": 37,
   "metadata": {},
   "outputs": [
    {
     "name": "stdout",
     "output_type": "stream",
     "text": [
      "Você recebeu 10% de desconto\n"
     ]
    }
   ],
   "source": [
    "#Calculadora de descontos\n",
    "\n",
    "#Insirir o valor da compra quando solicitado\n",
    "\n",
    "valor_compra = float(input(\"Insira o valor da compra \"))\n",
    "\n",
    "if valor_compra >= 1000:\n",
    "    desconto = valor_compra * 0.20\n",
    "    print(\"Você recebeu 20% de desconto na sua compra\")\n",
    "\n",
    "# Compras de R$500,00 a R$1000 recebem 10% de desconto\n",
    "elif valor_compra >= 500 and valor_compra < 1000:\n",
    "    desconto = 0.10 * valor_compra\n",
    "    print(\"Você recebeu 10% de desconto\")\n",
    "\n",
    "#Compras abaixo de R$500,00 não receberam desconto\n",
    "else:\n",
    "    desconto = 0\n",
    "    print(\"Você não recebeu desconto\")\n",
    "\n",
    "valor_final = valor_compra - desconto\n",
    "\n",
    "print(f\"Valor do desconto: {desconto:.2f}\")\n",
    "\n",
    "print(f\"Valor final da compra: R$ {valor_final:.2f}\")"
   ]
  },
  {
   "cell_type": "code",
   "execution_count": 2,
   "metadata": {},
   "outputs": [
    {
     "name": "stdout",
     "output_type": "stream",
     "text": [
      "Você é adulto\n"
     ]
    }
   ],
   "source": [
    "#Extrutura condicional ternaria\n",
    "\n",
    "age = 18\n",
    "\n",
    "status = \"adulto\"\n",
    "\n",
    "idade = int(input(\"Digite sua idade: \"))\n",
    "\n",
    "if idade >= age:\n",
    "    print(\"Você é adulto\")\n",
    "else:\n",
    "    print(\"Você é menor de idade!\")"
   ]
  },
  {
   "cell_type": "code",
   "execution_count": null,
   "metadata": {},
   "outputs": [],
   "source": []
  }
 ],
 "metadata": {
  "kernelspec": {
   "display_name": "Python 3",
   "language": "python",
   "name": "python3"
  },
  "language_info": {
   "codemirror_mode": {
    "name": "ipython",
    "version": 3
   },
   "file_extension": ".py",
   "mimetype": "text/x-python",
   "name": "python",
   "nbconvert_exporter": "python",
   "pygments_lexer": "ipython3",
   "version": "3.10.12"
  }
 },
 "nbformat": 4,
 "nbformat_minor": 2
}
