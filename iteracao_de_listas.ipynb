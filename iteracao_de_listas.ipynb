{
 "cells": [
  {
   "cell_type": "code",
   "execution_count": 4,
   "metadata": {},
   "outputs": [
    {
     "name": "stdout",
     "output_type": "stream",
     "text": [
      "banana\n",
      "\n",
      "laranja\n",
      "\n",
      "abacaxi\n",
      "\n",
      "manga\n",
      "\n",
      "0 banana\n",
      "1 laranja\n",
      "2 abacaxi\n",
      "3 manga\n"
     ]
    }
   ],
   "source": [
    "\"\"\"\"\n",
    "    Iteração e, listas\n",
    "    Usando loop for\n",
    "    Usando enumerate para obter o indice e valor ao iterar\n",
    "\"\"\"\n",
    "\n",
    "# Exemplo prático\n",
    "\n",
    "frutas = [\"banana\", \"laranja\", \"abacaxi\", \"manga\"]\n",
    "\n",
    "for fruta in frutas:\n",
    "    print(fruta)\n",
    "    print()\n",
    "\n",
    "# Usando enumerate para obter o indice e valor ao iterar\n",
    "\n",
    "for indice, fruta in enumerate(frutas):\n",
    "    print(indice, fruta)"
   ]
  },
  {
   "cell_type": "code",
   "execution_count": 16,
   "metadata": {},
   "outputs": [
    {
     "name": "stdout",
     "output_type": "stream",
     "text": [
      "joao\n",
      "maria\n",
      "pedro\n",
      "\n",
      "O indice 0, nome: joao\n",
      "O indice 1, nome: maria\n",
      "O indice 2, nome: pedro\n",
      "\n",
      "joao, objteve nota:85\n",
      "maria, objteve nota:90\n",
      "pedro, objteve nota:78\n",
      "ana, objteve nota:92\n",
      "joaquim, objteve nota:88\n"
     ]
    }
   ],
   "source": [
    "# Exercicio de iteração em Listas\n",
    "\n",
    "# 1. Use um loop para imprimir cada nome da lista.\n",
    "\n",
    "nome=['joao','maria','pedro']\n",
    "for i in nome:\n",
    "    print(i)\n",
    "print()\n",
    "for indice,nome in enumerate(nome):\n",
    "    print(f\"O indice {indice}, nome: {nome}\")\n",
    "\n",
    "print()\n",
    "\n",
    "#Imprima o nome do aluno da lista nomes e a sua respectiva nota da lista notas\n",
    "\n",
    "nota=[85, 90, 78, 92, 88]\n",
    "aluno=['joao','maria','pedro','ana','joaquim']\n",
    "\n",
    "for indice, aluno in enumerate( aluno):\n",
    "    print(f\"{aluno}, objteve nota:{nota[indice]}\")\n",
    "\n"
   ]
  }
 ],
 "metadata": {
  "kernelspec": {
   "display_name": "Python 3",
   "language": "python",
   "name": "python3"
  },
  "language_info": {
   "codemirror_mode": {
    "name": "ipython",
    "version": 3
   },
   "file_extension": ".py",
   "mimetype": "text/x-python",
   "name": "python",
   "nbconvert_exporter": "python",
   "pygments_lexer": "ipython3",
   "version": "3.10.12"
  }
 },
 "nbformat": 4,
 "nbformat_minor": 2
}
